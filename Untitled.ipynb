{
 "cells": [
  {
   "cell_type": "code",
   "execution_count": 11,
   "metadata": {},
   "outputs": [],
   "source": [
    "# you will need to install yahoo_fin module\n",
    "# pip install yahoo_fin\n",
    "# ref: http://theautomatic.net/yahoo_fin-documentation/\n",
    "\n",
    "from yahoo_fin.stock_info import get_data\n",
    "from sqlalchemy import create_engine\n",
    "from datetime import datetime as dt\n",
    "import pandas as pd\n"
   ]
  },
  {
   "cell_type": "code",
   "execution_count": 15,
   "metadata": {},
   "outputs": [],
   "source": [
    "def get_stock_data(tick_name, start_date, end_date):\n",
    "    \"\"\"\n",
    "    This function scrapes results fro a single stock from yahoo\n",
    "\n",
    "    tick_name: stock ticker\n",
    "    start_date: first stock result with format: '01/01/2020'\n",
    "    end_date: last stock result with format: '01/01/2020'\n",
    "    \"\"\"\n",
    "    ticker= tick_name\n",
    "    df = get_data(ticker=tick_name, start_date=start_date, end_date=end_date)\n",
    "    df.reset_index(inplace=True)\n",
    "    df.rename(columns={'index' : 'date'}, inplace=True)\n",
    "    df['date'] = df['date'].dt.date\n",
    "    return(df)"
   ]
  },
  {
   "cell_type": "code",
   "execution_count": 16,
   "metadata": {},
   "outputs": [],
   "source": [
    "def build_stock_df(tickers, start_date, end_date, max_records):\n",
    "    \"\"\"\n",
    "    This function loops through the tickers, runs get_stock_data and \n",
    "    returns a combined dataframe with all the results\n",
    "\n",
    "    tickers : this is a dataframe with the tickers we want with \n",
    "    columns for: Sector, Name, and Company\n",
    "\n",
    "    start_date: first stock result with format: '01/01/2020'\n",
    "    end_date: last stock result with format: '01/01/2020'\n",
    "\n",
    "    max_records: integer with the max number of results er stock\n",
    "    \"\"\""
   ]
  },
  {
   "cell_type": "code",
   "execution_count": 14,
   "metadata": {},
   "outputs": [
    {
     "ename": "NameError",
     "evalue": "name 'tickers' is not defined",
     "output_type": "error",
     "traceback": [
      "\u001b[0;31m---------------------------------------------------------------------------\u001b[0m",
      "\u001b[0;31mNameError\u001b[0m                                 Traceback (most recent call last)",
      "\u001b[0;32m<ipython-input-14-3b09f8790d4c>\u001b[0m in \u001b[0;36m<module>\u001b[0;34m\u001b[0m\n\u001b[1;32m      1\u001b[0m \u001b[0;31m# get the ticker results for the time period\u001b[0m\u001b[0;34m\u001b[0m\u001b[0;34m\u001b[0m\u001b[0;34m\u001b[0m\u001b[0m\n\u001b[0;32m----> 2\u001b[0;31m \u001b[0;32mfor\u001b[0m \u001b[0mrecord\u001b[0m \u001b[0;32min\u001b[0m \u001b[0mtickers\u001b[0m\u001b[0;34m.\u001b[0m\u001b[0mindex\u001b[0m\u001b[0;34m:\u001b[0m\u001b[0;34m\u001b[0m\u001b[0;34m\u001b[0m\u001b[0m\n\u001b[0m\u001b[1;32m      3\u001b[0m         \u001b[0mresults\u001b[0m \u001b[0;34m=\u001b[0m \u001b[0mget_stock_data\u001b[0m\u001b[0;34m(\u001b[0m\u001b[0mtickers\u001b[0m\u001b[0;34m[\u001b[0m\u001b[0;34m'Ticker'\u001b[0m\u001b[0;34m]\u001b[0m\u001b[0;34m[\u001b[0m\u001b[0mrecord\u001b[0m\u001b[0;34m]\u001b[0m\u001b[0;34m,\u001b[0m \u001b[0mstart_date\u001b[0m\u001b[0;34m,\u001b[0m \u001b[0mend_date\u001b[0m\u001b[0;34m)\u001b[0m\u001b[0;34m\u001b[0m\u001b[0;34m\u001b[0m\u001b[0m\n\u001b[1;32m      4\u001b[0m         \u001b[0mresults\u001b[0m\u001b[0;34m[\u001b[0m\u001b[0;34m'company'\u001b[0m\u001b[0;34m]\u001b[0m \u001b[0;34m=\u001b[0m \u001b[0mtickers\u001b[0m\u001b[0;34m[\u001b[0m\u001b[0;34m'Name'\u001b[0m\u001b[0;34m]\u001b[0m\u001b[0;34m[\u001b[0m\u001b[0mrecord\u001b[0m\u001b[0;34m]\u001b[0m\u001b[0;34m\u001b[0m\u001b[0;34m\u001b[0m\u001b[0m\n\u001b[1;32m      5\u001b[0m         \u001b[0mresults\u001b[0m\u001b[0;34m[\u001b[0m\u001b[0;34m'sector'\u001b[0m\u001b[0;34m]\u001b[0m \u001b[0;34m=\u001b[0m \u001b[0mtickers\u001b[0m\u001b[0;34m[\u001b[0m\u001b[0;34m'Sector'\u001b[0m\u001b[0;34m]\u001b[0m\u001b[0;34m[\u001b[0m\u001b[0mrecord\u001b[0m\u001b[0;34m]\u001b[0m\u001b[0;34m\u001b[0m\u001b[0;34m\u001b[0m\u001b[0m\n",
      "\u001b[0;31mNameError\u001b[0m: name 'tickers' is not defined"
     ]
    }
   ],
   "source": [
    "# get the ticker results for the time period\n",
    "for record in tickers.index:\n",
    "        results = get_stock_data(tickers['Ticker'][record], start_date, end_date)\n",
    "        results['company'] = tickers['Name'][record]\n",
    "        results['sector'] = tickers['Sector'][record]\n",
    "        \n",
    "        # only keep the last 100 records\n",
    "        results = results.tail(max_records)\n",
    "\n",
    "        # if a combined dataset exists append these new results\n",
    "        try:\n",
    "            combined_results = combined_results.append(results, ignore_index=True)\n",
    "            \n",
    "        # if combined dataset doesn't exist make this dataframe  the combined results df\n",
    "        except:\n",
    "            combined_results = results\n",
    "combined_results['date'] = pd.to_datetime(combined_results['date'], yearfirst=True)\n",
    "return combined_results"
   ]
  },
  {
   "cell_type": "code",
   "execution_count": null,
   "metadata": {},
   "outputs": [],
   "source": [
    "if __name__ == \"__main__\":\n",
    "    # load the tickers we want into a dataframe\n",
    "    tickers = pd.DataFrame({\n",
    "        'Sector' : ['Delivery', 'Delivery', 'Delivery', 'Medical Goods', 'Medical Goods', 'Medical Goods', 'Medical Services', 'Medical Services', 'Medical Services', 'Retail', 'Retail', 'Retail', 'Market', 'Market', 'Market'],\n",
    "        'Name' : ['FedEx', 'UPS', 'DHL', 'Johnson & Johnson', 'Cardinal Health', '3M', 'Medical Imaging Corp', 'Community Health Systems', 'Teladoc Health', 'Walmart', 'Amazon', 'CVS', 'Dow Jones', 'S & P 500', 'Nasdaq'],\n",
    "        'Ticker' : ['FDX', 'UPS', 'DPSGY', 'JNJ', 'CAH', 'MMM', 'MEDD', 'CYH', 'TDOC', 'WMT', 'AMZN', 'CVS', '^DJI', '^GSPC', '^IXIC'],\n",
    "    })\n",
    "\n",
    "    # this is a smaller tickers list that can be used for testing\n",
    "    test_tickers = pd.DataFrame({\n",
    "        'Sector' : ['Delivery','Medical Goods', 'Medical Services'],\n",
    "        'Name' : ['FedEx', 'Johnson & Johnson', 'Community Health Systems'],\n",
    "        'Ticker' : ['FDX', 'JNJ', 'CYH'],\n",
    "    })\n",
    "\n",
    "    prices_df = build_stock_df(tickers=tickers, \n",
    "                           start_date='01/01/2020', \n",
    "                           end_date = '04/01/2020', \n",
    "                           max_records = 100)\n",
    "\n",
    "    prices_df.to_csv('stock_data.csv',index=False)\n",
    "    \n",
    "    print(prices_df"
   ]
  }
 ],
 "metadata": {
  "kernelspec": {
   "display_name": "Python 3",
   "language": "python",
   "name": "python3"
  },
  "language_info": {
   "codemirror_mode": {
    "name": "ipython",
    "version": 3
   },
   "file_extension": ".py",
   "mimetype": "text/x-python",
   "name": "python",
   "nbconvert_exporter": "python",
   "pygments_lexer": "ipython3",
   "version": "3.7.3"
  }
 },
 "nbformat": 4,
 "nbformat_minor": 2
}
