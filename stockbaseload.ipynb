{
 "cells": [
  {
   "cell_type": "code",
   "execution_count": 1,
   "metadata": {},
   "outputs": [
    {
     "name": "stdout",
     "output_type": "stream",
     "text": [
      "Warning - Certain functionality \n",
      "             requires requests_html, which is not installed.\n",
      "             \n",
      "             Install using: \n",
      "             pip install requests_html\n",
      "             \n",
      "             After installation, you may have to restart your Python session.\n",
      "          date         open         high          low        close  \\\n",
      "0   2020-01-02   152.419998   155.100006   151.600006   155.100006   \n",
      "1   2020-01-03   152.500000   153.339996   151.839996   153.179993   \n",
      "2   2020-01-06   151.250000   153.550003   150.169998   153.300003   \n",
      "3   2020-01-07   153.360001   155.220001   152.339996   154.800003   \n",
      "4   2020-01-08   154.570007   157.750000   153.929993   157.130005   \n",
      "..         ...          ...          ...          ...          ...   \n",
      "925 2020-03-25  7421.359863  7671.209961  7276.399902  7384.299805   \n",
      "926 2020-03-26  7462.209961  7809.830078  7462.209961  7797.540039   \n",
      "927 2020-03-27  7554.250000  7716.240234  7491.140137  7502.379883   \n",
      "928 2020-03-30  7583.459961  7784.350098  7539.970215  7774.149902   \n",
      "929 2020-03-31  7740.060059  7880.310059  7642.859863  7700.100098   \n",
      "\n",
      "        adjclose      volume ticker company    sector  \n",
      "0     154.324097     3027600    FDX   FedEx  Delivery  \n",
      "1     152.413681     2216500    FDX   FedEx  Delivery  \n",
      "2     152.533096     2389700    FDX   FedEx  Delivery  \n",
      "3     154.025589     2140100    FDX   FedEx  Delivery  \n",
      "4     156.343933     3053200    FDX   FedEx  Delivery  \n",
      "..           ...         ...    ...     ...       ...  \n",
      "925  7384.299805  4666440000  ^IXIC  Nasdaq    Market  \n",
      "926  7797.540039  3999850000  ^IXIC  Nasdaq    Market  \n",
      "927  7502.379883  3977010000  ^IXIC  Nasdaq    Market  \n",
      "928  7774.149902  3846900000  ^IXIC  Nasdaq    Market  \n",
      "929  7700.100098  4059700000  ^IXIC  Nasdaq    Market  \n",
      "\n",
      "[930 rows x 10 columns]\n"
     ]
    }
   ],
   "source": [
    "from scrape_stock_data import build_stock_df\n",
    "import pandas as pd\n",
    "\n",
    "tickers = pd.DataFrame({\n",
    "        'Sector' : ['Delivery', 'Delivery', 'Delivery', 'Medical Goods', 'Medical Goods', 'Medical Goods', 'Medical Services', 'Medical Services', 'Medical Services', 'Retail', 'Retail', 'Retail', 'Market', 'Market', 'Market'],\n",
    "        'Name' : ['FedEx', 'UPS', 'DHL', 'Johnson & Johnson', 'Cardinal Health', '3M', 'Medical Imaging Corp', 'Community Health Systems', 'Teladoc Health', 'Walmart', 'Amazon', 'CVS', 'Dow Jones', 'S & P 500', 'Nasdaq'],\n",
    "        'Ticker' : ['FDX', 'UPS', 'DPSGY', 'JNJ', 'CAH', 'MMM', 'MEDD', 'CYH', 'TDOC', 'WMT', 'AMZN', 'CVS', '^DJI', '^GSPC', '^IXIC'],\n",
    "    })\n",
    "\n",
    "\n",
    "stock_df = build_stock_df(tickers=tickers, \n",
    "                        start_date='01/01/2020', \n",
    "                        end_date = '04/01/2020', \n",
    "                        max_records = 100)\n",
    "\n",
    "print(stock_df)"
   ]
  },
  {
   "cell_type": "code",
   "execution_count": 3,
   "metadata": {},
   "outputs": [
    {
     "name": "stdout",
     "output_type": "stream",
     "text": [
      "<class 'pandas.core.frame.DataFrame'>\n",
      "RangeIndex: 930 entries, 0 to 929\n",
      "Data columns (total 10 columns):\n",
      "date        930 non-null datetime64[ns]\n",
      "open        930 non-null float64\n",
      "high        930 non-null float64\n",
      "low         930 non-null float64\n",
      "close       930 non-null float64\n",
      "adjclose    930 non-null float64\n",
      "volume      930 non-null int64\n",
      "ticker      930 non-null object\n",
      "company     930 non-null object\n",
      "sector      930 non-null object\n",
      "dtypes: datetime64[ns](1), float64(5), int64(1), object(3)\n",
      "memory usage: 72.8+ KB\n"
     ]
    }
   ],
   "source": [
    "stock_df.info()\n"
   ]
  },
  {
   "cell_type": "code",
   "execution_count": null,
   "metadata": {},
   "outputs": [],
   "source": []
  }
 ],
 "metadata": {
  "kernelspec": {
   "display_name": "Python 3",
   "language": "python",
   "name": "python3"
  },
  "language_info": {
   "codemirror_mode": {
    "name": "ipython",
    "version": 3
   },
   "file_extension": ".py",
   "mimetype": "text/x-python",
   "name": "python",
   "nbconvert_exporter": "python",
   "pygments_lexer": "ipython3",
   "version": "3.7.4"
  }
 },
 "nbformat": 4,
 "nbformat_minor": 2
}
